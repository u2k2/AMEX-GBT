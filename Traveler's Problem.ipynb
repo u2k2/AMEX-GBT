{
 "cells": [
  {
   "cell_type": "code",
   "execution_count": 1,
   "metadata": {},
   "outputs": [],
   "source": [
    "###Importing required libraries\n",
    "import pandas as pd\n",
    "import numpy as np\n",
    "import matplotlib.pyplot as plt\n",
    "import seaborn as sns\n",
    "import warnings\n",
    "warnings.filterwarnings('ignore')"
   ]
  },
  {
   "cell_type": "code",
   "execution_count": 2,
   "metadata": {},
   "outputs": [
    {
     "data": {
      "text/html": [
       "<div>\n",
       "<style scoped>\n",
       "    .dataframe tbody tr th:only-of-type {\n",
       "        vertical-align: middle;\n",
       "    }\n",
       "\n",
       "    .dataframe tbody tr th {\n",
       "        vertical-align: top;\n",
       "    }\n",
       "\n",
       "    .dataframe thead th {\n",
       "        text-align: right;\n",
       "    }\n",
       "</style>\n",
       "<table border=\"1\" class=\"dataframe\">\n",
       "  <thead>\n",
       "    <tr style=\"text-align: right;\">\n",
       "      <th></th>\n",
       "      <th>PNR</th>\n",
       "      <th>origination_city</th>\n",
       "      <th>destination_city</th>\n",
       "      <th>orig_city_cd</th>\n",
       "      <th>dest_city_cd</th>\n",
       "      <th>origination_lat</th>\n",
       "      <th>origination_lon</th>\n",
       "      <th>destination_lat</th>\n",
       "      <th>destination_lon</th>\n",
       "      <th>fl_grfare_usd_am</th>\n",
       "      <th>fl_valid_id</th>\n",
       "      <th>fl_mile_ct</th>\n",
       "      <th>fl_cost_per_mile_usd_am</th>\n",
       "      <th>carry_a2_cd</th>\n",
       "      <th>fl_no</th>\n",
       "      <th>seg_arr_local_time</th>\n",
       "      <th>seg_dprt_local_time</th>\n",
       "      <th>seg_arr_utc_time</th>\n",
       "      <th>seg_dprt_utc_time</th>\n",
       "    </tr>\n",
       "  </thead>\n",
       "  <tbody>\n",
       "    <tr>\n",
       "      <th>0</th>\n",
       "      <td>921597</td>\n",
       "      <td>PHX</td>\n",
       "      <td>MIA</td>\n",
       "      <td>PHX</td>\n",
       "      <td>MIA</td>\n",
       "      <td>33.435036</td>\n",
       "      <td>-112.000164</td>\n",
       "      <td>25.796000</td>\n",
       "      <td>-80.278234</td>\n",
       "      <td>550.95</td>\n",
       "      <td>1</td>\n",
       "      <td>1981</td>\n",
       "      <td>0.27</td>\n",
       "      <td>AA</td>\n",
       "      <td>772</td>\n",
       "      <td>5/14/2018 16:33</td>\n",
       "      <td>5/14/2018 9:03</td>\n",
       "      <td>5/14/2018 23:33</td>\n",
       "      <td>5/14/2018 14:03</td>\n",
       "    </tr>\n",
       "    <tr>\n",
       "      <th>1</th>\n",
       "      <td>921597</td>\n",
       "      <td>MIA</td>\n",
       "      <td>PUJ</td>\n",
       "      <td>MIA</td>\n",
       "      <td>PUJ</td>\n",
       "      <td>25.796000</td>\n",
       "      <td>-80.278234</td>\n",
       "      <td>18.562477</td>\n",
       "      <td>-68.363998</td>\n",
       "      <td>252.80</td>\n",
       "      <td>1</td>\n",
       "      <td>909</td>\n",
       "      <td>0.27</td>\n",
       "      <td>AA</td>\n",
       "      <td>2593</td>\n",
       "      <td>5/14/2018 21:23</td>\n",
       "      <td>5/14/2018 19:00</td>\n",
       "      <td>5/15/2018 2:23</td>\n",
       "      <td>5/14/2018 23:00</td>\n",
       "    </tr>\n",
       "    <tr>\n",
       "      <th>2</th>\n",
       "      <td>921597</td>\n",
       "      <td>PUJ</td>\n",
       "      <td>MIA</td>\n",
       "      <td>PUJ</td>\n",
       "      <td>MIA</td>\n",
       "      <td>18.562477</td>\n",
       "      <td>-68.363998</td>\n",
       "      <td>25.796000</td>\n",
       "      <td>-80.278234</td>\n",
       "      <td>252.81</td>\n",
       "      <td>1</td>\n",
       "      <td>909</td>\n",
       "      <td>0.27</td>\n",
       "      <td>AA</td>\n",
       "      <td>1317</td>\n",
       "      <td>5/18/2018 9:41</td>\n",
       "      <td>5/18/2018 7:00</td>\n",
       "      <td>5/18/2018 13:41</td>\n",
       "      <td>5/18/2018 12:00</td>\n",
       "    </tr>\n",
       "    <tr>\n",
       "      <th>3</th>\n",
       "      <td>921597</td>\n",
       "      <td>MIA</td>\n",
       "      <td>PHX</td>\n",
       "      <td>MIA</td>\n",
       "      <td>PHX</td>\n",
       "      <td>25.796000</td>\n",
       "      <td>-80.278234</td>\n",
       "      <td>33.435036</td>\n",
       "      <td>-112.000164</td>\n",
       "      <td>550.95</td>\n",
       "      <td>1</td>\n",
       "      <td>1981</td>\n",
       "      <td>0.27</td>\n",
       "      <td>AA</td>\n",
       "      <td>272</td>\n",
       "      <td>5/18/2018 15:59</td>\n",
       "      <td>5/18/2018 13:55</td>\n",
       "      <td>5/18/2018 20:59</td>\n",
       "      <td>5/18/2018 20:55</td>\n",
       "    </tr>\n",
       "    <tr>\n",
       "      <th>4</th>\n",
       "      <td>492751</td>\n",
       "      <td>PHX</td>\n",
       "      <td>SAN</td>\n",
       "      <td>PHX</td>\n",
       "      <td>SAN</td>\n",
       "      <td>33.435036</td>\n",
       "      <td>-112.000164</td>\n",
       "      <td>32.731938</td>\n",
       "      <td>-117.197312</td>\n",
       "      <td>249.44</td>\n",
       "      <td>1</td>\n",
       "      <td>302</td>\n",
       "      <td>0.82</td>\n",
       "      <td>AA</td>\n",
       "      <td>465</td>\n",
       "      <td>2/5/2018 8:52</td>\n",
       "      <td>2/5/2018 8:35</td>\n",
       "      <td>2/5/2018 15:52</td>\n",
       "      <td>2/5/2018 16:35</td>\n",
       "    </tr>\n",
       "  </tbody>\n",
       "</table>\n",
       "</div>"
      ],
      "text/plain": [
       "      PNR origination_city destination_city orig_city_cd dest_city_cd  \\\n",
       "0  921597              PHX              MIA          PHX          MIA   \n",
       "1  921597              MIA              PUJ          MIA          PUJ   \n",
       "2  921597              PUJ              MIA          PUJ          MIA   \n",
       "3  921597              MIA              PHX          MIA          PHX   \n",
       "4  492751              PHX              SAN          PHX          SAN   \n",
       "\n",
       "   origination_lat  origination_lon  destination_lat  destination_lon  \\\n",
       "0        33.435036      -112.000164        25.796000       -80.278234   \n",
       "1        25.796000       -80.278234        18.562477       -68.363998   \n",
       "2        18.562477       -68.363998        25.796000       -80.278234   \n",
       "3        25.796000       -80.278234        33.435036      -112.000164   \n",
       "4        33.435036      -112.000164        32.731938      -117.197312   \n",
       "\n",
       "   fl_grfare_usd_am  fl_valid_id  fl_mile_ct  fl_cost_per_mile_usd_am  \\\n",
       "0            550.95            1        1981                     0.27   \n",
       "1            252.80            1         909                     0.27   \n",
       "2            252.81            1         909                     0.27   \n",
       "3            550.95            1        1981                     0.27   \n",
       "4            249.44            1         302                     0.82   \n",
       "\n",
       "  carry_a2_cd  fl_no seg_arr_local_time seg_dprt_local_time seg_arr_utc_time  \\\n",
       "0          AA    772    5/14/2018 16:33      5/14/2018 9:03  5/14/2018 23:33   \n",
       "1          AA   2593    5/14/2018 21:23     5/14/2018 19:00   5/15/2018 2:23   \n",
       "2          AA   1317     5/18/2018 9:41      5/18/2018 7:00  5/18/2018 13:41   \n",
       "3          AA    272    5/18/2018 15:59     5/18/2018 13:55  5/18/2018 20:59   \n",
       "4          AA    465      2/5/2018 8:52       2/5/2018 8:35   2/5/2018 15:52   \n",
       "\n",
       "  seg_dprt_utc_time  \n",
       "0   5/14/2018 14:03  \n",
       "1   5/14/2018 23:00  \n",
       "2   5/18/2018 12:00  \n",
       "3   5/18/2018 20:55  \n",
       "4    2/5/2018 16:35  "
      ]
     },
     "execution_count": 2,
     "metadata": {},
     "output_type": "execute_result"
    }
   ],
   "source": [
    "###Reading dataset\n",
    "\n",
    "data = pd.read_csv(\"C:\\\\Users\\\\Himanshu\\\\Downloads\\\\problem_1_traveler_raw.csv\")\n",
    "data.head()"
   ]
  },
  {
   "cell_type": "markdown",
   "metadata": {},
   "source": [
    "# Exploring the dataset"
   ]
  },
  {
   "cell_type": "code",
   "execution_count": 3,
   "metadata": {},
   "outputs": [
    {
     "name": "stdout",
     "output_type": "stream",
     "text": [
      "Shape of the dataset is (134, 19)\n"
     ]
    }
   ],
   "source": [
    "print(\"Shape of the dataset is\",data.shape)"
   ]
  },
  {
   "cell_type": "code",
   "execution_count": 4,
   "metadata": {},
   "outputs": [
    {
     "data": {
      "text/plain": [
       "PNR                        0\n",
       "origination_city           0\n",
       "destination_city           0\n",
       "orig_city_cd               0\n",
       "dest_city_cd               0\n",
       "origination_lat            0\n",
       "origination_lon            0\n",
       "destination_lat            0\n",
       "destination_lon            0\n",
       "fl_grfare_usd_am           0\n",
       "fl_valid_id                0\n",
       "fl_mile_ct                 0\n",
       "fl_cost_per_mile_usd_am    0\n",
       "carry_a2_cd                0\n",
       "fl_no                      0\n",
       "seg_arr_local_time         0\n",
       "seg_dprt_local_time        0\n",
       "seg_arr_utc_time           0\n",
       "seg_dprt_utc_time          0\n",
       "dtype: int64"
      ]
     },
     "execution_count": 4,
     "metadata": {},
     "output_type": "execute_result"
    }
   ],
   "source": [
    "##Null values in the dataset - No null values are present in the data\n",
    "data.isnull().sum()"
   ]
  },
  {
   "cell_type": "code",
   "execution_count": 5,
   "metadata": {},
   "outputs": [
    {
     "data": {
      "text/plain": [
       "PNR                          int64\n",
       "origination_city            object\n",
       "destination_city            object\n",
       "orig_city_cd                object\n",
       "dest_city_cd                object\n",
       "origination_lat            float64\n",
       "origination_lon            float64\n",
       "destination_lat            float64\n",
       "destination_lon            float64\n",
       "fl_grfare_usd_am           float64\n",
       "fl_valid_id                  int64\n",
       "fl_mile_ct                   int64\n",
       "fl_cost_per_mile_usd_am    float64\n",
       "carry_a2_cd                 object\n",
       "fl_no                        int64\n",
       "seg_arr_local_time          object\n",
       "seg_dprt_local_time         object\n",
       "seg_arr_utc_time            object\n",
       "seg_dprt_utc_time           object\n",
       "dtype: object"
      ]
     },
     "execution_count": 5,
     "metadata": {},
     "output_type": "execute_result"
    }
   ],
   "source": [
    "###Data types\n",
    "data.dtypes"
   ]
  },
  {
   "cell_type": "code",
   "execution_count": 6,
   "metadata": {},
   "outputs": [
    {
     "data": {
      "text/plain": [
       "array([1, 0], dtype=int64)"
      ]
     },
     "execution_count": 6,
     "metadata": {},
     "output_type": "execute_result"
    }
   ],
   "source": [
    "###Valid ID flag\n",
    "data['fl_valid_id'].unique()"
   ]
  },
  {
   "cell_type": "code",
   "execution_count": 7,
   "metadata": {},
   "outputs": [
    {
     "data": {
      "text/plain": [
       "1    82\n",
       "0    52\n",
       "Name: fl_valid_id, dtype: int64"
      ]
     },
     "execution_count": 7,
     "metadata": {},
     "output_type": "execute_result"
    }
   ],
   "source": [
    "##Count of valid IDs\n",
    "data['fl_valid_id'].value_counts()"
   ]
  },
  {
   "cell_type": "code",
   "execution_count": 8,
   "metadata": {},
   "outputs": [
    {
     "data": {
      "image/png": "[encoded data removed]",
      "text/plain": [
       "<Figure size 432x288 with 1 Axes>"
      ]
     },
     "metadata": {
      "needs_background": "light"
     },
     "output_type": "display_data"
    }
   ],
   "source": [
    "###Plotting Trip Spend\n",
    "plt.figure(figsize=(6,4))\n",
    "sns.boxplot( data = data , y = 'fl_grfare_usd_am')\n",
    "plt.show()"
   ]
  },
  {
   "cell_type": "code",
   "execution_count": 9,
   "metadata": {},
   "outputs": [
    {
     "data": {
      "image/png": "[encoded data removed]",
      "text/plain": [
       "<Figure size 432x288 with 1 Axes>"
      ]
     },
     "metadata": {
      "needs_background": "light"
     },
     "output_type": "display_data"
    }
   ],
   "source": [
    "###Plotting Total miles count\n",
    "plt.figure(figsize=(6,4))\n",
    "sns.boxplot( data = data , y = 'fl_mile_ct')\n",
    "plt.show()"
   ]
  },
  {
   "cell_type": "code",
   "execution_count": 10,
   "metadata": {},
   "outputs": [],
   "source": [
    "###Excluding negative trip spend and negative miles count\n",
    "\n",
    "data_updated = data[data['fl_grfare_usd_am']>0]"
   ]
  },
  {
   "cell_type": "code",
   "execution_count": 11,
   "metadata": {},
   "outputs": [],
   "source": [
    "###Selecting relevant columns for analysis\n",
    "col=['PNR','origination_city','destination_city','fl_grfare_usd_am','fl_valid_id','fl_mile_ct','carry_a2_cd','fl_no','seg_arr_utc_time','seg_dprt_utc_time']\n",
    "data_new = data_updated[col]"
   ]
  },
  {
   "cell_type": "markdown",
   "metadata": {},
   "source": [
    "# Total Trip Spend"
   ]
  },
  {
   "cell_type": "markdown",
   "metadata": {},
   "source": [
    "Assuming \"fl_valid_id\" corresponds to 1 as valid flight id because in the dataset we found very low trip charges(0,0.06 etc.) for fl_valid_id = 0 for the same combination of flight details as that of fl_valid_id = 1 and hence we will take only those records where fl_valid_id=1"
   ]
  },
  {
   "cell_type": "code",
   "execution_count": 12,
   "metadata": {},
   "outputs": [
    {
     "name": "stdout",
     "output_type": "stream",
     "text": [
      "Total spend on trip is:  119949.8\n"
     ]
    }
   ],
   "source": [
    "total_trip_spend= data_new[data_new['fl_valid_id']==1][\"fl_grfare_usd_am\"].sum().round(1)\n",
    "print(\"Total spend on trip is: \", total_trip_spend)"
   ]
  },
  {
   "cell_type": "markdown",
   "metadata": {},
   "source": [
    "# Total Mile Count"
   ]
  },
  {
   "cell_type": "code",
   "execution_count": 13,
   "metadata": {},
   "outputs": [
    {
     "name": "stdout",
     "output_type": "stream",
     "text": [
      "Total miles count is:  171577\n"
     ]
    }
   ],
   "source": [
    "total_mile_count= data_new[data_new['fl_valid_id']==1][\"fl_mile_ct\"].sum().round(1)\n",
    "print(\"Total miles count is: \", total_mile_count)"
   ]
  },
  {
   "cell_type": "markdown",
   "metadata": {},
   "source": [
    "# Count of Valid Trips"
   ]
  },
  {
   "cell_type": "code",
   "execution_count": 14,
   "metadata": {},
   "outputs": [
    {
     "name": "stdout",
     "output_type": "stream",
     "text": [
      "Number of Valid Trips:  75\n"
     ]
    }
   ],
   "source": [
    "count_valid_trip = data_new[data_new['fl_valid_id']==1]['fl_valid_id'].sum()\n",
    "print(\"Number of Valid Trips: \", count_valid_trip)"
   ]
  },
  {
   "cell_type": "code",
   "execution_count": 15,
   "metadata": {},
   "outputs": [
    {
     "data": {
      "text/plain": [
       "array(['PHX', 'MIA', 'PUJ', 'SAN', 'NAS', 'ATL', 'MEX', 'DEN', 'LON',\n",
       "       'MAD', 'WAS', 'EWR', 'SFO', 'AMS', 'EDI', 'MSY', 'NBO', 'NYC',\n",
       "       'EYW', 'BDA', 'SJD', 'LIH', 'LAX', 'DEL', 'SEA', 'MUC', 'NCE',\n",
       "       'FRA', 'BOS'], dtype=object)"
      ]
     },
     "execution_count": 15,
     "metadata": {},
     "output_type": "execute_result"
    }
   ],
   "source": [
    "data_new[data_new['fl_valid_id']==1]['origination_city'].unique()"
   ]
  },
  {
   "cell_type": "markdown",
   "metadata": {},
   "source": [
    "# Distinct Cities Visited"
   ]
  },
  {
   "cell_type": "code",
   "execution_count": 16,
   "metadata": {},
   "outputs": [],
   "source": [
    "origin = list(data_new[data_new['fl_valid_id']==1]['origination_city'].unique())\n",
    "destination = list(data_new[data_new['fl_valid_id']==1]['destination_city'].unique())\n",
    "total = set(origin + destination)"
   ]
  },
  {
   "cell_type": "code",
   "execution_count": 17,
   "metadata": {},
   "outputs": [
    {
     "name": "stdout",
     "output_type": "stream",
     "text": [
      "Total Cities visited by traveller :  29\n",
      "Total Cities visited by traveller excluding home city:  28\n"
     ]
    }
   ],
   "source": [
    "print(\"Total Cities visited by traveller : \", len(total))\n",
    "print(\"Total Cities visited by traveller excluding home city: \", len(total)-1)"
   ]
  },
  {
   "cell_type": "markdown",
   "metadata": {},
   "source": [
    "# Home City Code"
   ]
  },
  {
   "cell_type": "markdown",
   "metadata": {},
   "source": [
    "Home city should have the maximum number of departures and arrivals"
   ]
  },
  {
   "cell_type": "code",
   "execution_count": 18,
   "metadata": {},
   "outputs": [
    {
     "data": {
      "text/plain": [
       "PHX    21\n",
       "EWR     9\n",
       "LON     9\n",
       "Name: origination_city, dtype: int64"
      ]
     },
     "execution_count": 18,
     "metadata": {},
     "output_type": "execute_result"
    }
   ],
   "source": [
    "##Assuming fl_valid_id corresponds to 1 as valid flight id\n",
    "\n",
    "data_new[data_new['fl_valid_id']==1][\"origination_city\"].value_counts().head(3)"
   ]
  },
  {
   "cell_type": "code",
   "execution_count": 19,
   "metadata": {},
   "outputs": [
    {
     "data": {
      "text/plain": [
       "PHX    24\n",
       "LON    10\n",
       "EWR     6\n",
       "Name: destination_city, dtype: int64"
      ]
     },
     "execution_count": 19,
     "metadata": {},
     "output_type": "execute_result"
    }
   ],
   "source": [
    "##Assuming fl_valid_id corresponds to 1 as valid flight id\n",
    "\n",
    "data_new[data_new['fl_valid_id']==1][\"destination_city\"].value_counts().head(3)"
   ]
  },
  {
   "cell_type": "markdown",
   "metadata": {},
   "source": [
    "Based on above calculation we can infer that \"PHX\" is home city code of the traveller."
   ]
  },
  {
   "cell_type": "markdown",
   "metadata": {},
   "source": [
    "# Infer the trip type on the basis of Home City"
   ]
  },
  {
   "cell_type": "code",
   "execution_count": 20,
   "metadata": {},
   "outputs": [],
   "source": [
    "#Taking only valid trips\n",
    "data_new_valid= data_new[data_new['fl_valid_id']==1]"
   ]
  },
  {
   "cell_type": "code",
   "execution_count": 21,
   "metadata": {},
   "outputs": [],
   "source": [
    "## Keeping time format uniform across all rows\n",
    "data_new_valid['seg_dprt_utc_time'] = pd.to_datetime(data_new_valid['seg_dprt_utc_time'])\n",
    "data_new_valid['seg_arr_utc_time'] = pd.to_datetime(data_new_valid['seg_arr_utc_time'])"
   ]
  },
  {
   "cell_type": "code",
   "execution_count": 22,
   "metadata": {},
   "outputs": [],
   "source": [
    "#Grouping all PNR numbers with maximum arrival time and minimum departure time\n",
    "intermediate_df = data_new_valid.groupby('PNR').agg({'seg_dprt_utc_time':'min', 'seg_arr_utc_time':'max'}).reset_index()\n",
    "intermediate_df.rename(columns = {'seg_dprt_utc_time':'min_depart_time','seg_arr_utc_time':'max_arrive_time'}, inplace = True)"
   ]
  },
  {
   "cell_type": "code",
   "execution_count": 23,
   "metadata": {},
   "outputs": [
    {
     "data": {
      "text/html": [
       "<div>\n",
       "<style scoped>\n",
       "    .dataframe tbody tr th:only-of-type {\n",
       "        vertical-align: middle;\n",
       "    }\n",
       "\n",
       "    .dataframe tbody tr th {\n",
       "        vertical-align: top;\n",
       "    }\n",
       "\n",
       "    .dataframe thead th {\n",
       "        text-align: right;\n",
       "    }\n",
       "</style>\n",
       "<table border=\"1\" class=\"dataframe\">\n",
       "  <thead>\n",
       "    <tr style=\"text-align: right;\">\n",
       "      <th></th>\n",
       "      <th>PNR</th>\n",
       "      <th>min_depart_time</th>\n",
       "      <th>max_arrive_time</th>\n",
       "    </tr>\n",
       "  </thead>\n",
       "  <tbody>\n",
       "    <tr>\n",
       "      <th>0</th>\n",
       "      <td>111318</td>\n",
       "      <td>2018-08-09 21:20:00</td>\n",
       "      <td>2018-08-14 08:12:00</td>\n",
       "    </tr>\n",
       "    <tr>\n",
       "      <th>1</th>\n",
       "      <td>252241</td>\n",
       "      <td>2018-03-30 02:55:00</td>\n",
       "      <td>2018-03-30 03:36:00</td>\n",
       "    </tr>\n",
       "    <tr>\n",
       "      <th>2</th>\n",
       "      <td>276662</td>\n",
       "      <td>2018-11-05 14:50:00</td>\n",
       "      <td>2018-11-13 03:58:00</td>\n",
       "    </tr>\n",
       "    <tr>\n",
       "      <th>3</th>\n",
       "      <td>279194</td>\n",
       "      <td>2018-03-05 22:50:00</td>\n",
       "      <td>2018-03-09 01:47:00</td>\n",
       "    </tr>\n",
       "    <tr>\n",
       "      <th>4</th>\n",
       "      <td>295064</td>\n",
       "      <td>2018-10-10 21:45:00</td>\n",
       "      <td>2018-10-10 17:35:00</td>\n",
       "    </tr>\n",
       "  </tbody>\n",
       "</table>\n",
       "</div>"
      ],
      "text/plain": [
       "      PNR     min_depart_time     max_arrive_time\n",
       "0  111318 2018-08-09 21:20:00 2018-08-14 08:12:00\n",
       "1  252241 2018-03-30 02:55:00 2018-03-30 03:36:00\n",
       "2  276662 2018-11-05 14:50:00 2018-11-13 03:58:00\n",
       "3  279194 2018-03-05 22:50:00 2018-03-09 01:47:00\n",
       "4  295064 2018-10-10 21:45:00 2018-10-10 17:35:00"
      ]
     },
     "execution_count": 23,
     "metadata": {},
     "output_type": "execute_result"
    }
   ],
   "source": [
    "intermediate_df.head()"
   ]
  },
  {
   "cell_type": "code",
   "execution_count": 24,
   "metadata": {},
   "outputs": [],
   "source": [
    "##Creating dictionaries to map it with PNR and extract max arrival time and min departure time for each trip\n",
    "dic_max = dict(zip(intermediate_df['PNR'],intermediate_df['max_arrive_time']))\n",
    "dic_min = dict(zip(intermediate_df['PNR'],intermediate_df['min_depart_time']))\n",
    "\n",
    "data_new_valid['max_arrive_time'] = data_new_valid['PNR'].map(dic_max)\n",
    "data_new_valid['min_depart_time'] = data_new_valid['PNR'].map(dic_min)"
   ]
  },
  {
   "cell_type": "code",
   "execution_count": 25,
   "metadata": {},
   "outputs": [],
   "source": [
    "##creating two different dataframes on the basis of arrival and departure\n",
    "df1 = data_new_valid[data_new_valid['seg_arr_utc_time']==data_new_valid['max_arrive_time']]\n",
    "df2 = data_new_valid[data_new_valid['seg_dprt_utc_time']==data_new_valid['min_depart_time']]"
   ]
  },
  {
   "cell_type": "code",
   "execution_count": 26,
   "metadata": {},
   "outputs": [],
   "source": [
    "##Concatenate both dataframes and populate trip type as round or single for each PNR\n",
    "df_final = pd.DataFrame()\n",
    "df_final = pd.concat([df1[['PNR','destination_city']].reset_index(drop=True),df2[['origination_city']].reset_index(drop=True)], axis = 1)\n",
    "df_final['Trip_Type'] = np.where(df_final['destination_city']==df_final['origination_city'], 'Round', 'Single')"
   ]
  },
  {
   "cell_type": "code",
   "execution_count": 27,
   "metadata": {},
   "outputs": [
    {
     "data": {
      "text/html": [
       "<div>\n",
       "<style scoped>\n",
       "    .dataframe tbody tr th:only-of-type {\n",
       "        vertical-align: middle;\n",
       "    }\n",
       "\n",
       "    .dataframe tbody tr th {\n",
       "        vertical-align: top;\n",
       "    }\n",
       "\n",
       "    .dataframe thead th {\n",
       "        text-align: right;\n",
       "    }\n",
       "</style>\n",
       "<table border=\"1\" class=\"dataframe\">\n",
       "  <thead>\n",
       "    <tr style=\"text-align: right;\">\n",
       "      <th></th>\n",
       "      <th>PNR</th>\n",
       "      <th>destination_city</th>\n",
       "      <th>origination_city</th>\n",
       "      <th>Trip_Type</th>\n",
       "    </tr>\n",
       "  </thead>\n",
       "  <tbody>\n",
       "    <tr>\n",
       "      <th>0</th>\n",
       "      <td>921597</td>\n",
       "      <td>PHX</td>\n",
       "      <td>PHX</td>\n",
       "      <td>Round</td>\n",
       "    </tr>\n",
       "    <tr>\n",
       "      <th>1</th>\n",
       "      <td>492751</td>\n",
       "      <td>PHX</td>\n",
       "      <td>PHX</td>\n",
       "      <td>Round</td>\n",
       "    </tr>\n",
       "    <tr>\n",
       "      <th>2</th>\n",
       "      <td>961754</td>\n",
       "      <td>PHX</td>\n",
       "      <td>PHX</td>\n",
       "      <td>Round</td>\n",
       "    </tr>\n",
       "    <tr>\n",
       "      <th>3</th>\n",
       "      <td>995277</td>\n",
       "      <td>PHX</td>\n",
       "      <td>DEN</td>\n",
       "      <td>Single</td>\n",
       "    </tr>\n",
       "    <tr>\n",
       "      <th>4</th>\n",
       "      <td>823594</td>\n",
       "      <td>PHX</td>\n",
       "      <td>LON</td>\n",
       "      <td>Single</td>\n",
       "    </tr>\n",
       "  </tbody>\n",
       "</table>\n",
       "</div>"
      ],
      "text/plain": [
       "      PNR destination_city origination_city Trip_Type\n",
       "0  921597              PHX              PHX     Round\n",
       "1  492751              PHX              PHX     Round\n",
       "2  961754              PHX              PHX     Round\n",
       "3  995277              PHX              DEN    Single\n",
       "4  823594              PHX              LON    Single"
      ]
     },
     "execution_count": 27,
     "metadata": {},
     "output_type": "execute_result"
    }
   ],
   "source": [
    "df_final.head()"
   ]
  }
 ],
 "metadata": {
  "kernelspec": {
   "display_name": "Python 3",
   "language": "python",
   "name": "python3"
  },
  "language_info": {
   "codemirror_mode": {
    "name": "ipython",
    "version": 3
   },
   "file_extension": ".py",
   "mimetype": "text/x-python",
   "name": "python",
   "nbconvert_exporter": "python",
   "pygments_lexer": "ipython3",
   "version": "3.7.1"
  }
 },
 "nbformat": 4,
 "nbformat_minor": 2
}
