{
 "cells": [
  {
   "cell_type": "code",
   "execution_count": 1,
   "metadata": {},
   "outputs": [],
   "source": [
    "###Importing required libraries\n",
    "import pandas as pd\n",
    "import numpy as no\n",
    "import warnings\n",
    "from sklearn.preprocessing import LabelEncoder\n",
    "from sklearn.preprocessing import MinMaxScaler\n",
    "import matplotlib.pyplot as plt\n",
    "from sklearn.ensemble import RandomForestClassifier\n",
    "warnings.filterwarnings('ignore')"
   ]
  },
  {
   "cell_type": "code",
   "execution_count": 2,
   "metadata": {},
   "outputs": [
    {
     "data": {
      "text/html": [
       "<div>\n",
       "<style scoped>\n",
       "    .dataframe tbody tr th:only-of-type {\n",
       "        vertical-align: middle;\n",
       "    }\n",
       "\n",
       "    .dataframe tbody tr th {\n",
       "        vertical-align: top;\n",
       "    }\n",
       "\n",
       "    .dataframe thead th {\n",
       "        text-align: right;\n",
       "    }\n",
       "</style>\n",
       "<table border=\"1\" class=\"dataframe\">\n",
       "  <thead>\n",
       "    <tr style=\"text-align: right;\">\n",
       "      <th></th>\n",
       "      <th>8AM</th>\n",
       "      <th>9AM</th>\n",
       "      <th>10AM</th>\n",
       "      <th>11AM</th>\n",
       "      <th>Noon</th>\n",
       "      <th>1PM</th>\n",
       "      <th>2PM</th>\n",
       "      <th>3PM</th>\n",
       "      <th>4PM</th>\n",
       "      <th>5PM</th>\n",
       "      <th>Commute</th>\n",
       "      <th>DayOfWeek</th>\n",
       "      <th>WatchTV</th>\n",
       "    </tr>\n",
       "  </thead>\n",
       "  <tbody>\n",
       "    <tr>\n",
       "      <th>0</th>\n",
       "      <td>Coffee</td>\n",
       "      <td>6</td>\n",
       "      <td>7</td>\n",
       "      <td>2</td>\n",
       "      <td>Sandwich</td>\n",
       "      <td>10</td>\n",
       "      <td>8</td>\n",
       "      <td>4</td>\n",
       "      <td>Tea</td>\n",
       "      <td>10</td>\n",
       "      <td>Long</td>\n",
       "      <td>Mon</td>\n",
       "      <td>Yes</td>\n",
       "    </tr>\n",
       "    <tr>\n",
       "      <th>1</th>\n",
       "      <td>Doughnut</td>\n",
       "      <td>4</td>\n",
       "      <td>5</td>\n",
       "      <td>3</td>\n",
       "      <td>Lenthils</td>\n",
       "      <td>1</td>\n",
       "      <td>1</td>\n",
       "      <td>3</td>\n",
       "      <td>PingPong</td>\n",
       "      <td>7</td>\n",
       "      <td>Short</td>\n",
       "      <td>Tue</td>\n",
       "      <td>No</td>\n",
       "    </tr>\n",
       "    <tr>\n",
       "      <th>2</th>\n",
       "      <td>Coffee</td>\n",
       "      <td>7</td>\n",
       "      <td>4</td>\n",
       "      <td>4</td>\n",
       "      <td>Taco</td>\n",
       "      <td>10</td>\n",
       "      <td>4</td>\n",
       "      <td>3</td>\n",
       "      <td>PingPong</td>\n",
       "      <td>7</td>\n",
       "      <td>Short</td>\n",
       "      <td>Wed</td>\n",
       "      <td>No</td>\n",
       "    </tr>\n",
       "    <tr>\n",
       "      <th>3</th>\n",
       "      <td>Coffee</td>\n",
       "      <td>1</td>\n",
       "      <td>1</td>\n",
       "      <td>8</td>\n",
       "      <td>Sandwich</td>\n",
       "      <td>10</td>\n",
       "      <td>7</td>\n",
       "      <td>6</td>\n",
       "      <td>PingPong</td>\n",
       "      <td>8</td>\n",
       "      <td>Short</td>\n",
       "      <td>Thu</td>\n",
       "      <td>Yes</td>\n",
       "    </tr>\n",
       "    <tr>\n",
       "      <th>4</th>\n",
       "      <td>Doughnut</td>\n",
       "      <td>8</td>\n",
       "      <td>6</td>\n",
       "      <td>7</td>\n",
       "      <td>Sandwich</td>\n",
       "      <td>7</td>\n",
       "      <td>6</td>\n",
       "      <td>8</td>\n",
       "      <td>Tea</td>\n",
       "      <td>8</td>\n",
       "      <td>Long</td>\n",
       "      <td>Fri</td>\n",
       "      <td>Yes</td>\n",
       "    </tr>\n",
       "  </tbody>\n",
       "</table>\n",
       "</div>"
      ],
      "text/plain": [
       "        8AM  9AM  10AM  11AM      Noon  1PM  2PM  3PM       4PM  5PM Commute  \\\n",
       "0    Coffee    6     7     2  Sandwich   10    8    4       Tea   10    Long   \n",
       "1  Doughnut    4     5     3  Lenthils    1    1    3  PingPong    7   Short   \n",
       "2    Coffee    7     4     4      Taco   10    4    3  PingPong    7   Short   \n",
       "3    Coffee    1     1     8  Sandwich   10    7    6  PingPong    8   Short   \n",
       "4  Doughnut    8     6     7  Sandwich    7    6    8       Tea    8    Long   \n",
       "\n",
       "  DayOfWeek WatchTV  \n",
       "0       Mon     Yes  \n",
       "1       Tue      No  \n",
       "2       Wed      No  \n",
       "3       Thu     Yes  \n",
       "4       Fri     Yes  "
      ]
     },
     "execution_count": 2,
     "metadata": {},
     "output_type": "execute_result"
    }
   ],
   "source": [
    "###Reading dataset\n",
    "\n",
    "data = pd.read_csv(\"C:\\\\Users\\\\Himanshu\\\\Downloads\\\\problem_2_garfield_activity.csv\")\n",
    "data.head()"
   ]
  },
  {
   "cell_type": "code",
   "execution_count": 3,
   "metadata": {},
   "outputs": [
    {
     "name": "stdout",
     "output_type": "stream",
     "text": [
      "Shape of the dataset is (21, 13)\n"
     ]
    }
   ],
   "source": [
    "###exploring dataset\n",
    "print(\"Shape of the dataset is\",data.shape)"
   ]
  },
  {
   "cell_type": "code",
   "execution_count": 4,
   "metadata": {},
   "outputs": [
    {
     "data": {
      "text/plain": [
       "8AM          0\n",
       "9AM          0\n",
       "10AM         0\n",
       "11AM         0\n",
       "Noon         0\n",
       "1PM          0\n",
       "2PM          0\n",
       "3PM          0\n",
       "4PM          0\n",
       "5PM          0\n",
       "Commute      0\n",
       "DayOfWeek    0\n",
       "WatchTV      2\n",
       "dtype: int64"
      ]
     },
     "execution_count": 4,
     "metadata": {},
     "output_type": "execute_result"
    }
   ],
   "source": [
    "###Check null values in the datatset\n",
    "data.isnull().sum()"
   ]
  },
  {
   "cell_type": "code",
   "execution_count": 5,
   "metadata": {},
   "outputs": [
    {
     "name": "stdout",
     "output_type": "stream",
     "text": [
      "Shape of data is (19, 13)\n"
     ]
    }
   ],
   "source": [
    "###Drop null values\n",
    "data.dropna(inplace = True)\n",
    "print(\"Shape of data is\", data.shape)"
   ]
  },
  {
   "cell_type": "code",
   "execution_count": 6,
   "metadata": {},
   "outputs": [],
   "source": [
    "##egregating object type and numeric type attributes\n",
    "obj_col = ['8AM','Noon','4PM','Commute','DayOfWeek','WatchTV']\n",
    "num_col = ['9AM','10AM','11AM','1PM','2PM','3PM','5PM']\n",
    "\n",
    "data_obj = data[obj_col]\n",
    "data_num = data[num_col]"
   ]
  },
  {
   "cell_type": "code",
   "execution_count": 7,
   "metadata": {},
   "outputs": [
    {
     "data": {
      "text/html": [
       "<div>\n",
       "<style scoped>\n",
       "    .dataframe tbody tr th:only-of-type {\n",
       "        vertical-align: middle;\n",
       "    }\n",
       "\n",
       "    .dataframe tbody tr th {\n",
       "        vertical-align: top;\n",
       "    }\n",
       "\n",
       "    .dataframe thead th {\n",
       "        text-align: right;\n",
       "    }\n",
       "</style>\n",
       "<table border=\"1\" class=\"dataframe\">\n",
       "  <thead>\n",
       "    <tr style=\"text-align: right;\">\n",
       "      <th></th>\n",
       "      <th>8AM</th>\n",
       "      <th>Noon</th>\n",
       "      <th>4PM</th>\n",
       "      <th>Commute</th>\n",
       "      <th>DayOfWeek</th>\n",
       "      <th>WatchTV</th>\n",
       "    </tr>\n",
       "  </thead>\n",
       "  <tbody>\n",
       "    <tr>\n",
       "      <th>0</th>\n",
       "      <td>0</td>\n",
       "      <td>1</td>\n",
       "      <td>2</td>\n",
       "      <td>0</td>\n",
       "      <td>1</td>\n",
       "      <td>1</td>\n",
       "    </tr>\n",
       "    <tr>\n",
       "      <th>1</th>\n",
       "      <td>1</td>\n",
       "      <td>0</td>\n",
       "      <td>1</td>\n",
       "      <td>1</td>\n",
       "      <td>4</td>\n",
       "      <td>0</td>\n",
       "    </tr>\n",
       "    <tr>\n",
       "      <th>2</th>\n",
       "      <td>0</td>\n",
       "      <td>2</td>\n",
       "      <td>1</td>\n",
       "      <td>1</td>\n",
       "      <td>5</td>\n",
       "      <td>0</td>\n",
       "    </tr>\n",
       "    <tr>\n",
       "      <th>3</th>\n",
       "      <td>0</td>\n",
       "      <td>1</td>\n",
       "      <td>1</td>\n",
       "      <td>1</td>\n",
       "      <td>3</td>\n",
       "      <td>1</td>\n",
       "    </tr>\n",
       "    <tr>\n",
       "      <th>4</th>\n",
       "      <td>1</td>\n",
       "      <td>1</td>\n",
       "      <td>2</td>\n",
       "      <td>0</td>\n",
       "      <td>0</td>\n",
       "      <td>1</td>\n",
       "    </tr>\n",
       "  </tbody>\n",
       "</table>\n",
       "</div>"
      ],
      "text/plain": [
       "   8AM  Noon  4PM  Commute  DayOfWeek  WatchTV\n",
       "0    0     1    2        0          1        1\n",
       "1    1     0    1        1          4        0\n",
       "2    0     2    1        1          5        0\n",
       "3    0     1    1        1          3        1\n",
       "4    1     1    2        0          0        1"
      ]
     },
     "execution_count": 7,
     "metadata": {},
     "output_type": "execute_result"
    }
   ],
   "source": [
    "##Label encoder for encoding categorical attributes\n",
    "le = LabelEncoder()\n",
    "data_obj_lencoded = data_obj.apply(le.fit_transform)\n",
    "data_obj_lencoded.head()"
   ]
  },
  {
   "cell_type": "code",
   "execution_count": 8,
   "metadata": {},
   "outputs": [
    {
     "data": {
      "text/html": [
       "<div>\n",
       "<style scoped>\n",
       "    .dataframe tbody tr th:only-of-type {\n",
       "        vertical-align: middle;\n",
       "    }\n",
       "\n",
       "    .dataframe tbody tr th {\n",
       "        vertical-align: top;\n",
       "    }\n",
       "\n",
       "    .dataframe thead th {\n",
       "        text-align: right;\n",
       "    }\n",
       "</style>\n",
       "<table border=\"1\" class=\"dataframe\">\n",
       "  <thead>\n",
       "    <tr style=\"text-align: right;\">\n",
       "      <th></th>\n",
       "      <th>8AM</th>\n",
       "      <th>Noon</th>\n",
       "      <th>4PM</th>\n",
       "      <th>Commute</th>\n",
       "      <th>DayOfWeek</th>\n",
       "      <th>WatchTV</th>\n",
       "      <th>9AM</th>\n",
       "      <th>10AM</th>\n",
       "      <th>11AM</th>\n",
       "      <th>1PM</th>\n",
       "      <th>2PM</th>\n",
       "      <th>3PM</th>\n",
       "      <th>5PM</th>\n",
       "    </tr>\n",
       "  </thead>\n",
       "  <tbody>\n",
       "    <tr>\n",
       "      <th>0</th>\n",
       "      <td>0</td>\n",
       "      <td>1</td>\n",
       "      <td>2</td>\n",
       "      <td>0</td>\n",
       "      <td>1</td>\n",
       "      <td>1</td>\n",
       "      <td>6</td>\n",
       "      <td>7</td>\n",
       "      <td>2</td>\n",
       "      <td>10</td>\n",
       "      <td>8</td>\n",
       "      <td>4</td>\n",
       "      <td>10</td>\n",
       "    </tr>\n",
       "    <tr>\n",
       "      <th>1</th>\n",
       "      <td>1</td>\n",
       "      <td>0</td>\n",
       "      <td>1</td>\n",
       "      <td>1</td>\n",
       "      <td>4</td>\n",
       "      <td>0</td>\n",
       "      <td>4</td>\n",
       "      <td>5</td>\n",
       "      <td>3</td>\n",
       "      <td>1</td>\n",
       "      <td>1</td>\n",
       "      <td>3</td>\n",
       "      <td>7</td>\n",
       "    </tr>\n",
       "    <tr>\n",
       "      <th>2</th>\n",
       "      <td>0</td>\n",
       "      <td>2</td>\n",
       "      <td>1</td>\n",
       "      <td>1</td>\n",
       "      <td>5</td>\n",
       "      <td>0</td>\n",
       "      <td>7</td>\n",
       "      <td>4</td>\n",
       "      <td>4</td>\n",
       "      <td>10</td>\n",
       "      <td>4</td>\n",
       "      <td>3</td>\n",
       "      <td>7</td>\n",
       "    </tr>\n",
       "    <tr>\n",
       "      <th>3</th>\n",
       "      <td>0</td>\n",
       "      <td>1</td>\n",
       "      <td>1</td>\n",
       "      <td>1</td>\n",
       "      <td>3</td>\n",
       "      <td>1</td>\n",
       "      <td>1</td>\n",
       "      <td>1</td>\n",
       "      <td>8</td>\n",
       "      <td>10</td>\n",
       "      <td>7</td>\n",
       "      <td>6</td>\n",
       "      <td>8</td>\n",
       "    </tr>\n",
       "    <tr>\n",
       "      <th>4</th>\n",
       "      <td>1</td>\n",
       "      <td>1</td>\n",
       "      <td>2</td>\n",
       "      <td>0</td>\n",
       "      <td>0</td>\n",
       "      <td>1</td>\n",
       "      <td>8</td>\n",
       "      <td>6</td>\n",
       "      <td>7</td>\n",
       "      <td>7</td>\n",
       "      <td>6</td>\n",
       "      <td>8</td>\n",
       "      <td>8</td>\n",
       "    </tr>\n",
       "  </tbody>\n",
       "</table>\n",
       "</div>"
      ],
      "text/plain": [
       "   8AM  Noon  4PM  Commute  DayOfWeek  WatchTV  9AM  10AM  11AM  1PM  2PM  \\\n",
       "0    0     1    2        0          1        1    6     7     2   10    8   \n",
       "1    1     0    1        1          4        0    4     5     3    1    1   \n",
       "2    0     2    1        1          5        0    7     4     4   10    4   \n",
       "3    0     1    1        1          3        1    1     1     8   10    7   \n",
       "4    1     1    2        0          0        1    8     6     7    7    6   \n",
       "\n",
       "   3PM  5PM  \n",
       "0    4   10  \n",
       "1    3    7  \n",
       "2    3    7  \n",
       "3    6    8  \n",
       "4    8    8  "
      ]
     },
     "execution_count": 8,
     "metadata": {},
     "output_type": "execute_result"
    }
   ],
   "source": [
    "###Adding encoded attributes with numeric attributes of the data\n",
    "df = pd.DataFrame()\n",
    "df = pd.concat([data_obj_lencoded,data_num], axis = 1)\n",
    "df.head()"
   ]
  },
  {
   "cell_type": "code",
   "execution_count": 9,
   "metadata": {},
   "outputs": [],
   "source": [
    "###Segregating target variables and independent variables for the model input\n",
    "y = df['WatchTV']\n",
    "X = df.drop('WatchTV', axis = 1)"
   ]
  },
  {
   "cell_type": "code",
   "execution_count": 10,
   "metadata": {},
   "outputs": [
    {
     "data": {
      "text/plain": [
       "RandomForestClassifier(criterion='entropy', n_estimators=20, oob_score=True,\n",
       "                       random_state=10)"
      ]
     },
     "execution_count": 10,
     "metadata": {},
     "output_type": "execute_result"
    }
   ],
   "source": [
    "###Instantiate random forest model and fitting data to the model\n",
    "rf=RandomForestClassifier(random_state=10,criterion = \"entropy\",n_estimators = 20,oob_score = True)\n",
    "rf.fit(X, y)"
   ]
  },
  {
   "cell_type": "code",
   "execution_count": 11,
   "metadata": {},
   "outputs": [],
   "source": [
    "###Important Features of the model\n",
    "feat_importance = pd.Series(rf.feature_importances_, index=X.columns.to_list())\n",
    "feat_importance = feat_importance.sort_values(ascending = False)"
   ]
  },
  {
   "cell_type": "code",
   "execution_count": 12,
   "metadata": {},
   "outputs": [
    {
     "name": "stdout",
     "output_type": "stream",
     "text": [
      "0.6842105263157895\n"
     ]
    }
   ],
   "source": [
    "###OOB score for validation od model. This is the best OOB score achieved due to very less sample training data\n",
    "print(rf.oob_score_)"
   ]
  },
  {
   "cell_type": "code",
   "execution_count": 13,
   "metadata": {},
   "outputs": [
    {
     "data": {
      "text/plain": [
       "2PM          0.209486\n",
       "Commute      0.136938\n",
       "1PM          0.110723\n",
       "Noon         0.103201\n",
       "4PM          0.087183\n",
       "5PM          0.083355\n",
       "9AM          0.075597\n",
       "DayOfWeek    0.066276\n",
       "3PM          0.043655\n",
       "11AM         0.033346\n",
       "10AM         0.032828\n",
       "8AM          0.017412\n",
       "dtype: float64"
      ]
     },
     "execution_count": 13,
     "metadata": {},
     "output_type": "execute_result"
    }
   ],
   "source": [
    "feat_importance"
   ]
  },
  {
   "cell_type": "code",
   "execution_count": 14,
   "metadata": {},
   "outputs": [
    {
     "data": {
      "image/png": "[encoded data removed]",
      "text/plain": [
       "<Figure size 864x432 with 1 Axes>"
      ]
     },
     "metadata": {
      "needs_background": "light"
     },
     "output_type": "display_data"
    }
   ],
   "source": [
    "import seaborn as sns\n",
    "plt.figure(figsize=(12,6))\n",
    "plt.title(\"Feature Importance\")\n",
    "sns.barplot(x = feat_importance.index, y =  feat_importance)\n",
    "plt.show()"
   ]
  },
  {
   "cell_type": "markdown",
   "metadata": {},
   "source": [
    "Top 5 leading indicators of Garfield's TV propensity\n",
    "\n",
    "1. 2PM \n",
    "2. Commute\n",
    "3. 1PM\n",
    "4. Noon\n",
    "5. 4PM"
   ]
  },
  {
   "cell_type": "code",
   "execution_count": null,
   "metadata": {},
   "outputs": [],
   "source": []
  }
 ],
 "metadata": {
  "kernelspec": {
   "display_name": "Python 3",
   "language": "python",
   "name": "python3"
  },
  "language_info": {
   "codemirror_mode": {
    "name": "ipython",
    "version": 3
   },
   "file_extension": ".py",
   "mimetype": "text/x-python",
   "name": "python",
   "nbconvert_exporter": "python",
   "pygments_lexer": "ipython3",
   "version": "3.7.1"
  }
 },
 "nbformat": 4,
 "nbformat_minor": 2
}
